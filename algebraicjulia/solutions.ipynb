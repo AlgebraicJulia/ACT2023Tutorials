{
  "cells": [
    {
      "cell_type": "raw",
      "metadata": {},
      "source": [
        "---\n",
        "title: Solutions to Exercises\n",
        "---"
      ],
      "id": "ed710b85"
    },
    {
      "cell_type": "markdown",
      "metadata": {},
      "source": [
        "## Part 1\n",
        "\n",
        ":::{.rmenv title=\"Exercise (Installation)\"}\n",
        "Follow the [quick start](quickstart) instructions to install Julia, a code editor, and the git version control system.\n",
        ":::\n",
        "\n",
        ":::{.solenv}\n",
        "If you're stuck on setup, please ask an instructor or TA for help!\n",
        ":::\n",
        "\n",
        ":::{.rmenv title=\"Exercise (Hello World)\"}\n",
        "Get Julia to print \"Hello World\".\n",
        ":::\n",
        "\n",
        ":::{.solenv}\n",
        "Output text with the `println` function.\n"
      ],
      "id": "4522d70d"
    },
    {
      "cell_type": "code",
      "metadata": {},
      "source": [
        "println(\"Hello World!\")"
      ],
      "id": "fb336037",
      "execution_count": null,
      "outputs": []
    },
    {
      "cell_type": "markdown",
      "metadata": {},
      "source": [
        "String concatentation in Julia uses the `*` symbol.\n"
      ],
      "id": "8129d3ed"
    },
    {
      "cell_type": "code",
      "metadata": {},
      "source": [
        "println(\"Hello\" * \" \" * \"World!\")"
      ],
      "id": "594368b0",
      "execution_count": null,
      "outputs": []
    },
    {
      "cell_type": "markdown",
      "metadata": {},
      "source": [
        "Print everything in a vector by using broadcasting. To broadcast, append `.` to your function, and pass it something you can iterate over (like a vector). Or, use `map` or `foreach`.\n"
      ],
      "id": "9a2c0e36"
    },
    {
      "cell_type": "code",
      "metadata": {},
      "source": [
        "# Both of these return a vector of `nothing`s:\n",
        "\n",
        "# println.([\"Hello\", \"World!\"])\n",
        "# map(println, [\"Hello\", \"World!\"])\n",
        "\n",
        "# This one produces side effects only:\n",
        "foreach(println, [\"Hello\", \"World!\"])"
      ],
      "id": "6a38772a",
      "execution_count": null,
      "outputs": []
    },
    {
      "cell_type": "markdown",
      "metadata": {},
      "source": [
        "Perform string interpolation using `$`.\n"
      ],
      "id": "d0a1075b"
    },
    {
      "cell_type": "code",
      "metadata": {},
      "source": [
        "favorite_library = \"AlgebraicDynamics.jl\"\n",
        "\n",
        "println(\"My favorite AlgebraicJulia package is $(favorite_library)!\")"
      ],
      "id": "f4e6b83b",
      "execution_count": null,
      "outputs": []
    },
    {
      "cell_type": "markdown",
      "metadata": {},
      "source": [
        ":::\n",
        "\n",
        ":::{.rmenv title=\"Exercise (Package management)\"}\n",
        "Install a Julia package, such as `Catlab` or `AlgebraicDynamics`, using the [Julia package manager](https://docs.julialang.org/en/v1/stdlib/Pkg/).\n",
        ":::\n",
        "\n",
        ":::{.solenv}\n",
        "From a Julia REPL, enter the package manager by typing `]`. Create a new project, which will organize the packages you're using for this workshop, by typing\n",
        "`pkg> activate .`\n",
        "Next, add Catlab to your project by typing\n",
        "`pkg> add Catlab`\n",
        "You should see a bunch of stuff happening, including precompilation of the Catlab code.\n",
        "\n",
        "When that's finished, hit backspace to get out of the package manager and type\n",
        "```julia\n",
        "using Catlab\n",
        "```\n",
        "to load Catlab into your REPL session. To make sure it worked right, try something like\n",
        "```julia\n",
        "g = path_graph(Graph, 7)\n",
        "```\n",
        "to produce your first graph in Catlab!\n",
        ":::\n",
        "\n",
        "\n",
        ":::{.rmenv title=\"Exercise (Sharing is caring)\"}\n",
        "Fork and clone the [ACT2023Tutorial](https://github.com/AlgebraicJulia/ACT2023Tutorial) repository, make a change, commit it, and create a pull request.\n",
        ":::\n",
        "\n",
        ":::{.solenv}\n",
        "1. Log into [github.com](https://github.com)\n",
        "2. Navigate to [github.com/AlgebraicJulia/ACT2023Tutorials](https://github.com/AlgebraicJulia/ACT2023Tutorials)\n",
        "3. By the top right of the page there click the \"Fork\" button to the left of the \"Star\" button.\n",
        "4. On the next page click \"Create fork\", this will create a copy of the repository on your own GitHub account\n",
        "5. Clone your fork (replacing `<user_name>` with your own GitHub username)\n",
        "   ```sh\n",
        "   git clone https://github.com/<user_name>/ACT2023Tutorials.git\n",
        "   ```\n",
        "6. Navigate into the solutions folder and create a new directory with your name (replacing `<your_name>` with your own name)\n",
        "   ```sh\n",
        "   cd ACT2023Tutorials/solutions\n",
        "   mkdir <your_name>\n",
        "   ```\n",
        "7. Put some code in there!\n",
        "   ```sh\n",
        "   echo \"print('Hello, World!')\" > hello_world.jl\n",
        "   ```\n",
        "8. Stage, commit, and push your changes\n",
        "   ```sh\n",
        "   git add hello_world.jl\n",
        "   git commit -m \"Adding solutions for <your_name>\"\n",
        "   git push\n",
        "   ```\n",
        "9. Navigate to your fork on GitHub (replacing `<user_name>` with your GitHub username): `https://github.com/<user_name>/ACT2023Tutorials`\n",
        "10. Click the \"Pull requests\" tab across the top of the page and click the \"New pull request\". This will automatically create a new pull request on the original repository from your fork\n",
        "11. Click \"Create pull request\"\n",
        "12. Put a short title and description and click \"Create pull request\"\n",
        ":::\n",
        "\n",
        ":::{.rmenv title=\"Exercise (Finite sets)\"}\n",
        "Write a function that computes the product of two finite sets, along with the projection maps out.\n",
        ":::\n",
        "\n",
        ":::{.solenv}\n",
        "For convenience, we'll use the types `FinSet` and `FinFunction` exported by Catlab, which are similar to but more general than those in the problem statement.\n"
      ],
      "id": "0547fa2a"
    },
    {
      "cell_type": "code",
      "metadata": {},
      "source": [
        "#| output: false\n",
        "using Catlab\n",
        "\n",
        "function product_projections(A::FinSet{Int}, B::FinSet{Int})\n",
        "  m, n = length(A), length(B)\n",
        "  AB = FinSet(m*n)\n",
        "  \n",
        "  # In this calculation, `÷` (short for `div` function) is truncating integer\n",
        "  # division and `%` (short for `mod` function) is the modulus.\n",
        "  # Notice that we're using the skeleton of FinSet with sets `1:n` but the\n",
        "  # calculation below is most natural for sets `0:(n-1)`.\n",
        "  πA = FinFunction(i -> (i-1) ÷ n + 1, AB, A)\n",
        "  πB = FinFunction(i -> (i-1) % n + 1, AB, B)\n",
        "  \n",
        "  (πA, πB)\n",
        "end"
      ],
      "id": "8917f2c4",
      "execution_count": null,
      "outputs": []
    },
    {
      "cell_type": "markdown",
      "metadata": {},
      "source": [
        "An example:\n"
      ],
      "id": "a6feaeb7"
    },
    {
      "cell_type": "code",
      "metadata": {},
      "source": [
        "using Test\n",
        "\n",
        "π₁, π₂ = product_projections(FinSet(3), FinSet(4))\n",
        "@test dom(π₁) == dom(π₂) == FinSet(12)\n",
        "@test collect(π₁) == [1,1,1,1, 2,2,2,2, 3,3,3,3]\n",
        "@test collect(π₂) == [1,2,3,4, 1,2,3,4, 1,2,3,4]"
      ],
      "id": "a9b516ff",
      "execution_count": null,
      "outputs": []
    },
    {
      "cell_type": "markdown",
      "metadata": {},
      "source": [
        ":::\n",
        "\n",
        ":::{.rmenv title=\"Exercise (Graphs)\"}\n",
        "Implement a graph data structure in Catlab either (a) using Catlab's support for C-sets (`@acset_type`) or (b) more directly, using finite sets (`FinSet`) and functions (`FinFunction`).\n",
        ":::\n",
        "\n",
        ":::{.solenv}\n",
        "\n",
        "a. Graphs as C-sets:\n"
      ],
      "id": "081b4d7b"
    },
    {
      "cell_type": "code",
      "metadata": {
        "md-indent": "   "
      },
      "source": [
        "using Catlab\n",
        "\n",
        "@present SchGph(FreeSchema) begin\n",
        "   V::Ob\n",
        "   E::Ob\n",
        "   src::Hom(E,V)\n",
        "   tgt::Hom(E,V)\n",
        "end\n",
        "\n",
        "# Index the `src` and `tgt` functions for fast lookups of inverse images\n",
        "# using the `incident` function.\n",
        "@acset_type Gph(SchGph, index=[:src,:tgt])\n",
        "\n",
        "# An example graph\n",
        "g = @acset Gph begin\n",
        "  V = 3\n",
        "  E = 2\n",
        "  src = [1,1]\n",
        "  tgt = [2,1]\n",
        "end"
      ],
      "id": "7dd3c60b",
      "execution_count": null,
      "outputs": []
    },
    {
      "cell_type": "markdown",
      "metadata": {},
      "source": [
        "   We use the name `Gph` to avoid a name conflict with Catlab's exported type\n",
        "   `Graph`, but `Graph` is defined in Catlab in exactly the same way!\n",
        "   \n",
        "   The exported `Graph` type includes support for visualization using\n",
        "   [Graphviz](https://graphviz.org/), which we can use to see what the above\n",
        "   graph looks like:\n"
      ],
      "id": "f5212d89"
    },
    {
      "cell_type": "code",
      "metadata": {
        "md-indent": "   "
      },
      "source": [
        "g = @acset Graph begin\n",
        "  V = 3\n",
        "  E = 2\n",
        "  src = [1,1]\n",
        "  tgt = [2,1]\n",
        "end\n",
        "\n",
        "to_graphviz(g, node_labels=true)"
      ],
      "id": "2f5173a0",
      "execution_count": null,
      "outputs": []
    },
    {
      "cell_type": "markdown",
      "metadata": {},
      "source": [
        "b. Using finite sets and functions:\n"
      ],
      "id": "969fbbaa"
    },
    {
      "cell_type": "code",
      "metadata": {
        "md-indent": "   "
      },
      "source": [
        "#| output: false\n",
        "# Catlab exports these generic functions. We import them explicitly so that\n",
        "# we can add new methods to them.\n",
        "import Catlab: src, tgt, vertices, edges\n",
        "\n",
        "struct MyGraph\n",
        "  # We don't need fields for `E` and `V` since these are the domain and\n",
        "  # codomain of `src` and `tgt`.\n",
        "  src::FinFunction\n",
        "  tgt::FinFunction\n",
        "\n",
        "  function MyGraph(src::FinFunction, tgt::FinFunction)\n",
        "    dom(src) == dom(tgt) || error(\"Source and target must have same domain\")\n",
        "    codom(src) == codom(tgt) || error(\"Source and target must have same codomain\")\n",
        "    new(src, tgt)\n",
        "  end\n",
        "end\n",
        "\n",
        "# A few accessor functions. Our users shouldn't need to know the internal\n",
        "# layout of the fields in the struct!\n",
        "src(g::MyGraph) = g.src\n",
        "tgt(g::MyGraph) = g.tgt\n",
        "vertices(g::MyGraph) = codom(src(g)) # == codom(tgt(g))\n",
        "edges(g::MyGraph) = dom(src(g)) # == dom(tgt(g))"
      ],
      "id": "cfdddde8",
      "execution_count": null,
      "outputs": []
    },
    {
      "cell_type": "markdown",
      "metadata": {},
      "source": [
        "   Now let's test that it works!\n"
      ],
      "id": "f1511869"
    },
    {
      "cell_type": "code",
      "metadata": {
        "md-indent": "   "
      },
      "source": [
        "using Test\n",
        "\n",
        "s, t = FinFunction([1,1], 3), FinFunction([2,1], 3)\n",
        "g = MyGraph(s, t)\n",
        "\n",
        "@test vertices(g) == FinSet(3)\n",
        "@test edges(g) == FinSet(2)"
      ],
      "id": "5433cee7",
      "execution_count": null,
      "outputs": []
    },
    {
      "cell_type": "markdown",
      "metadata": {},
      "source": [
        ":::\n",
        "\n",
        ":::{.rmenv title=\"Exercise (Optimizing Euler)\"}\n",
        "Write an optimized implementation of Euler's method that computes the derivative in place and only makes allocations when initializing the algorithm.\n",
        ":::\n",
        "\n",
        ":::{.solenv}\n",
        "For the sake of comparison, let's first measure the allocations of the naive implementation of Euler's method.\n"
      ],
      "id": "94c69e33"
    },
    {
      "cell_type": "code",
      "metadata": {},
      "source": [
        "function euler(du::Function, init::Vector{Float64}, dt::Float64, m::Int)\n",
        "  n = length(init)\n",
        "  x = zeros(Float64, (m+1, n))\n",
        "  x[1,:] = init\n",
        "  for i in 1:m\n",
        "    x[i+1,:] = x[i,:] + dt * du(x[i,:])\n",
        "  end\n",
        "  x\n",
        "end\n",
        "\n",
        "du(u) = [u[3], u[4], 0, -9.8]\n",
        "@time trajectory = euler(du, [0, 0, 5.0, 10.0], 0.1, 1000);"
      ],
      "id": "fcaec449",
      "execution_count": null,
      "outputs": []
    },
    {
      "cell_type": "markdown",
      "metadata": {},
      "source": [
        "In the optimized version, we pass a function `du!` that computes the derivative in-place.\n"
      ],
      "id": "76346a4c"
    },
    {
      "cell_type": "code",
      "metadata": {},
      "source": [
        "function inplace_euler(du!::Function, init::Vector{Float64}, dt::Float64, m::Int)\n",
        "  n = length(init)\n",
        "  x = zeros(Float64, (m+1, n))\n",
        "  du = zeros(Float64, n)\n",
        "  x[1,:] = init\n",
        "  for i in 1:m\n",
        "    du!(du, j -> x[i,j])\n",
        "    for j in 1:n\n",
        "      x[i+1,j] = x[i,j] + dt * du[j]\n",
        "    end\n",
        "  end\n",
        "  x\n",
        "end\n",
        "\n",
        "@inline function du!(du, u)\n",
        "  du[1] = u(3)\n",
        "  du[2] = u(4)\n",
        "  du[3] = 0\n",
        "  du[4] = -9.8\n",
        "end\n",
        "@time trajectory′ = inplace_euler(du!, [0, 0, 5.0, 10.0], 0.1, 1000);"
      ],
      "id": "1fcad433",
      "execution_count": null,
      "outputs": []
    },
    {
      "cell_type": "markdown",
      "metadata": {},
      "source": [
        "Notice that the number of allocations is constant in the length of the trajectory. We better also check that we get the same answer as before.\n"
      ],
      "id": "f4ba2095"
    },
    {
      "cell_type": "code",
      "metadata": {},
      "source": [
        "@test trajectory′ ≈ trajectory"
      ],
      "id": "f43d711e",
      "execution_count": null,
      "outputs": []
    },
    {
      "cell_type": "markdown",
      "metadata": {},
      "source": [
        ":::\n",
        "\n",
        "# Part 2\n",
        "\n",
        ":::{.rmenv title=\"Exercise (Growing rabbits)\"}\n",
        "Implement the dynamical system\n",
        "\n",
        "$$ \\dot{R} = \\alpha R $$\n",
        "\n",
        "using `AlgebraicDynamics`.\n",
        ":::\n",
        "\n",
        ":::{.solenv}\n",
        "Define the dynamical system as a resource sharer:\n"
      ],
      "id": "5267b365"
    },
    {
      "cell_type": "code",
      "metadata": {},
      "source": [
        "using AlgebraicDynamics\n",
        "\n",
        "ṙ(r,p,t) = p.α * r\n",
        "rabbit_growth = ContinuousResourceSharer{Float64}(1, ṙ)"
      ],
      "id": "506f7ac3",
      "execution_count": null,
      "outputs": []
    },
    {
      "cell_type": "markdown",
      "metadata": {},
      "source": [
        "Simulate and plot:\n"
      ],
      "id": "9de64b85"
    },
    {
      "cell_type": "code",
      "metadata": {},
      "source": [
        "using LabelledArrays\n",
        "using DifferentialEquations, Plots\n",
        "\n",
        "u0 = [1.0]\n",
        "params = LVector(α=0.3)\n",
        "tspan = (0.0, 10.0)\n",
        "\n",
        "prob = ODEProblem(rabbit_growth, u0, tspan, params)\n",
        "sol = solve(prob, Tsit5())\n",
        "\n",
        "plot(sol, title=\"Exponential growth of rabbit population\",\n",
        "     legend=false, xlabel=\"time\", ylabel=\"population size\")"
      ],
      "id": "5901307e",
      "execution_count": null,
      "outputs": []
    },
    {
      "cell_type": "markdown",
      "metadata": {},
      "source": [
        ":::\n",
        "\n",
        ":::{.rmenv title=\"Exercise (UWDs as data structure)\"}\n",
        "a. Write a call to the `@relation` macro that constructs the shown UWD.\n",
        "b. Construct the UWD manually using the API for UWDs or the lower-level API for acsets.\n",
        ":::\n",
        "\n",
        ":::{.solenv}\n",
        "Using the `@relation` macro:\n"
      ],
      "id": "02095954"
    },
    {
      "cell_type": "code",
      "metadata": {},
      "source": [
        "uwd = @relation (x,y,z) where (w,x,y,z) begin\n",
        "  R(x,w)\n",
        "  S(y,w)\n",
        "  T(z,w)\n",
        "end\n",
        "\n",
        "to_graphviz(uwd, box_labels=:name, junction_labels=:variable)"
      ],
      "id": "1ac24b3d",
      "execution_count": null,
      "outputs": []
    },
    {
      "cell_type": "markdown",
      "metadata": {},
      "source": [
        "Using the UWD API:\n"
      ],
      "id": "bf396d79"
    },
    {
      "cell_type": "code",
      "metadata": {},
      "source": [
        "d = RelationDiagram(3) # Create diagram with 3 outer ports\n",
        "add_junctions!(d, 4, variable=[:w,:x,:y,:z]) # Add four junctions\n",
        "set_junction!(d, 1:3, 2:4, outer=true) # Set junctions of outer ports\n",
        "\n",
        "for name in [:R, :S, :T]\n",
        "  add_box!(d, 2, name=name) # Add box with two ports\n",
        "end\n",
        "for (i, box) in enumerate(boxes(d))\n",
        "  set_junction!(d, (box, 1), i+1)\n",
        "  set_junction!(d, (box, 2), 1)\n",
        "end\n",
        "\n",
        "@test d == uwd"
      ],
      "id": "2ec16977",
      "execution_count": null,
      "outputs": []
    },
    {
      "cell_type": "markdown",
      "metadata": {},
      "source": [
        "The advantange of using the programmatic API is that this code is easily generalized to a function that creates a \"star-shaped UWD\" of any size. You might try implementing this function as a further exercise.\n",
        ":::\n",
        "\n",
        ":::{.rmenv title=\"Exercise (Pendulum)\"}\n",
        "Implement a dynamical system modeling the trajectory of a pendulum.\n",
        ":::\n",
        "\n",
        ":::{.solenv}\n",
        "We'll use the differential equation for the motion of a [simple pendulum](https://en.wikipedia.org/wiki/Pendulum_(mechanics))\n",
        "\n",
        "$$ \\frac{d^2 \\theta}{dt^2} + \\frac{g}{\\ell} \\sin\\theta = 0, $$\n",
        "\n",
        "where $g$ is the acceleration due to gravity and $\\ell$ is the length of the rod. It's fun that since we're working numerically, we don't need to bother with the small-angle approximation $\\sin(\\theta) \\approx \\theta$ that you probably remember from physics class.\n",
        "\n",
        "We turn this second-order ODE into a first-order system of ODEs by introducing a new variable, the angular velocity $\\omega$:\n",
        "\n",
        "\\begin{align*}\n",
        "  \\dot\\theta &= \\omega \\\\\n",
        "  \\dot\\omega &= -\\frac{g}{\\ell} \\sin\\theta\n",
        "\\end{align*}\n",
        "\n",
        "Now we can plug this into AlgebraicDynamics:\n"
      ],
      "id": "60673f62"
    },
    {
      "cell_type": "code",
      "metadata": {},
      "source": [
        "du(u,p,t) = [u[2], -p.g/p.ℓ * sin(u[1])]\n",
        "\n",
        "pendulum = ContinuousResourceSharer{Float64}(2, du)\n",
        "\n",
        "u0 = [π/4, 0]\n",
        "params = LVector(g=9.8, ℓ=1)\n",
        "tspan = (0.0, 10.0)\n",
        "\n",
        "prob = ODEProblem(pendulum, u0, tspan, params)\n",
        "sol = solve(prob, Tsit5())\n",
        "plot(sol, title=\"Simple pendulum\", xlabel=\"time\", label=[\"θ\" \"ω\"])"
      ],
      "id": "ea9426b5",
      "execution_count": null,
      "outputs": []
    },
    {
      "cell_type": "markdown",
      "metadata": {},
      "source": [
        ":::\n",
        "\n",
        ":::{.rmenv title=\"Exercise (Graph traversal)\"}\n",
        "Implement a graph traversal algorithm, such as depth-first search or\n",
        "breadth-first search, using the acsets API (`subpart`, `incident`).\n",
        ":::\n",
        "\n",
        ":::{.solenv}\n",
        "A stack-based depth-first search algorithm:\n"
      ],
      "id": "8a6c2886"
    },
    {
      "cell_type": "code",
      "metadata": {},
      "source": [
        "#| output: false\n",
        "using Catlab\n",
        "using DataStructures: Stack\n",
        "\n",
        "\"\"\" Depth-first search in graph `g` starting at vertex `v`\n",
        "\n",
        "The function `f` is called at every vertex in the search path.\n",
        "\"\"\"\n",
        "function dfs(f::Function, g::ACSet, v::Int)\n",
        "  seen = Set{Int}()\n",
        "  next = Stack{Int}()\n",
        "  push!(next, v)\n",
        "  while !isempty(next)\n",
        "    v = pop!(next)\n",
        "    v ∈ seen && continue\n",
        "    f(v)\n",
        "    push!(seen, v)\n",
        "    # Add all outgoing edges to the stack.\n",
        "    for e in incident(g, v, :src)\n",
        "      # Syntactic sugar: `g[e, :tgt] == subpart(g, e, :tgt)``\n",
        "      push!(next, g[e, :tgt])\n",
        "    end\n",
        "  end\n",
        "end"
      ],
      "id": "5373a327",
      "execution_count": null,
      "outputs": []
    },
    {
      "cell_type": "markdown",
      "metadata": {},
      "source": [
        "Traversal of a directed cycle, starting at the third vertex, yields the vertices\n",
        "in the expected order.\n"
      ],
      "id": "8daa8968"
    },
    {
      "cell_type": "code",
      "metadata": {},
      "source": [
        "g = cycle_graph(Graph, 6)\n",
        "dfs(println, g, 3)"
      ],
      "id": "3b3539ff",
      "execution_count": null,
      "outputs": []
    },
    {
      "cell_type": "markdown",
      "metadata": {},
      "source": [
        ":::{.rmenv title=\"Exercise (Union-find)\"}\n",
        "Use the union-find data structure to find the connected components of a graph, by making `src(e)` and `tgt(e)` be in the same equivalence class for each edge `e`.\n",
        ":::\n",
        "\n",
        ":::{.solenv}"
      ],
      "id": "420ee5c2"
    },
    {
      "cell_type": "code",
      "metadata": {},
      "source": [
        "#| output: false\n",
        "using Catlab\n",
        "using DataStructures: IntDisjointSets, union!, find_root\n",
        "\n",
        "\"\"\" Find connected components of a graph.\n",
        "\n",
        "Returns a dictionary from the component roots to lists of vertices in each\n",
        "component.\n",
        "\"\"\"\n",
        "function connected_components(g::HasGraph)\n",
        "  sets = IntDisjointSets(nparts(g, :V))\n",
        "  for e in parts(g, :E)\n",
        "    union!(sets, g[e,:src], g[e,:tgt])\n",
        "  end\n",
        "\n",
        "  components = Dict{Int,Vector{Int}}()\n",
        "  for v in parts(g, :V)\n",
        "    component = get!(() -> Int[], components, find_root(sets, v))\n",
        "    push!(component, v)\n",
        "  end\n",
        "  components\n",
        "end"
      ],
      "id": "b4993f8a",
      "execution_count": null,
      "outputs": []
    },
    {
      "cell_type": "markdown",
      "metadata": {},
      "source": [
        "A graph with three components constructed as a coproduct of basic graphs:\n"
      ],
      "id": "06211d10"
    },
    {
      "cell_type": "code",
      "metadata": {},
      "source": [
        "g = path_graph(Graph, 3) ⊕ cycle_graph(Graph, 4) ⊕ star_graph(Graph, 4)\n",
        "\n",
        "values(connected_components(g))"
      ],
      "id": "edc935f9",
      "execution_count": null,
      "outputs": []
    },
    {
      "cell_type": "markdown",
      "metadata": {},
      "source": [
        ":::{.rmenv title=\"Exercise (Julia macros)\"}\n",
        "Write a macro that creates a graph using a Graphviz-like syntax.\n",
        ":::\n",
        "\n",
        ":::{.solenv}\n",
        "In Catlab, we typically use the pattern-matching features of [MLStyle.jl](https://github.com/thautwarm/MLStyle.jl) to simplify the parsing of Julia expressions. For the sake of illustration, we deconstruct the expressions \"by hand\" below.\n"
      ],
      "id": "e0fbb2ba"
    },
    {
      "cell_type": "code",
      "metadata": {},
      "source": [
        "#| output: false\n",
        "macro make_graph(expr)\n",
        "  make_graph(expr)\n",
        "end\n",
        "\n",
        "function make_graph(block::Expr)\n",
        "  g = Graph()\n",
        "  vnames = Dict{Symbol,Int}()\n",
        "  block.head == :block || error(\"Input to `make_graph` must be a block\")\n",
        "  for arg in block.args\n",
        "    if arg isa LineNumberNode\n",
        "      continue\n",
        "    elseif arg isa Symbol\n",
        "      haskey(vnames, arg) && error(\"Vertex $arg already defined\")\n",
        "      vnames[arg] = add_vertex!(g)\n",
        "    elseif arg isa Expr && arg.head == :(->)\n",
        "      sname, rhs = arg.args\n",
        "      tname = rhs.args[2]\n",
        "      add_edge!(g, vnames[sname], vnames[tname])\n",
        "    else\n",
        "      error(\"Cannot parse statement $arg\")\n",
        "    end\n",
        "  end\n",
        "  g\n",
        "end"
      ],
      "id": "da19b416",
      "execution_count": null,
      "outputs": []
    },
    {
      "cell_type": "markdown",
      "metadata": {},
      "source": [
        "Let's try it out on the given example:\n"
      ],
      "id": "1b11bbc1"
    },
    {
      "cell_type": "code",
      "metadata": {},
      "source": [
        "g = @make_graph begin\n",
        "  a\n",
        "  b\n",
        "  c\n",
        "  a -> b\n",
        "  b -> c\n",
        "end\n",
        "\n",
        "to_graphviz(g)"
      ],
      "id": "29bfc724",
      "execution_count": null,
      "outputs": []
    },
    {
      "cell_type": "markdown",
      "metadata": {},
      "source": [
        "For comparison, Catlab ships with a similar macro `@graph` and a host of related but more complicated macros for building categories, diagrams in a category, and so on.\n",
        ":::\n",
        "\n",
        "## Part 3\n",
        "\n",
        ":::{.rmenv title=\"Exercise (Lotka-Volterra with a twist, &starf; &starf;)\"}\n",
        "Suppose that there are populations of rocks, populations of papers, and populations of scissors. Predation happens to each based on the classic pattern; i.e. scissors eat papers, papers eat rocks, and rocks eat scissors.\n",
        "\n",
        "Write down a model for a pairwise interaction between two implements based on Lotka-Volterra dynamics, and then compose three copies of that model to produce a three-population system.\n",
        ":::\n",
        "\n",
        ":::{.solenv}\n",
        "\n",
        "First, let's define a resource sharing machine representing a predation process. This resource sharer has two state variables, one for the predator population and the other for the prey population. It is parameterized by a predation rate (i.e. how efficiently our predator inanimate objects eat the prey inanimate objects) and a growth rate (i.e. how efficiently our predators reproduce given how much they eat).\n"
      ],
      "id": "41866028"
    },
    {
      "cell_type": "code",
      "metadata": {},
      "source": [
        "using AlgebraicDynamics.UWDDynam\n",
        "using Catlab\n",
        "using Plots\n",
        "\n",
        "# Return a continuous resource sharer describing the interaction\n",
        "# of a predator and prey based on predation rate and growth rate parameters.\n",
        "function binary_predation_system(growth_rate, predation_rate)\n",
        "    dynamics(u,_,_) = [\n",
        "        # The predators can reproduce if there are at least 2 of them.\n",
        "        u[1] >= 2 ? growth_rate*u[1]*u[2] : 0,\n",
        "        # The predators cannot eat if there aren't at least 1 of them.\n",
        "        u[1] > 1 ? -predation_rate*u[1]*u[2] : 0\n",
        "    ]\n",
        "    return ContinuousResourceSharer{Float64}(2, dynamics)\n",
        "end"
      ],
      "id": "5b20412a",
      "execution_count": null,
      "outputs": []
    },
    {
      "cell_type": "markdown",
      "metadata": {},
      "source": [
        "Now, we can use Catlab to define the composition pattern of our rock-paper-scissors system.\n"
      ],
      "id": "3d61f275"
    },
    {
      "cell_type": "code",
      "metadata": {},
      "source": [
        "d = @relation (rocks, papers, scissors) begin\n",
        "    crush(rocks, scissors)\n",
        "    cover(papers, rocks)\n",
        "    cut(scissors, papers)\n",
        "end\n",
        "\n",
        "to_graphviz(d, box_labels = :name, junction_labels = :variable, edge_attrs=Dict(:len => \".75\"))"
      ],
      "id": "b919255b",
      "execution_count": null,
      "outputs": []
    },
    {
      "cell_type": "markdown",
      "metadata": {},
      "source": [
        "Now we can pick some rate parameters and fill our boxes with binary predation systems.\n"
      ],
      "id": "1f8311b2"
    },
    {
      "cell_type": "code",
      "metadata": {},
      "source": [
        "crush_rate = .2\n",
        "cover_rate = .1\n",
        "cut_rate = .3\n",
        "\n",
        "rock_reproduction_rate = 0.1\n",
        "paper_reproduction_rate = 0.2\n",
        "scissor_reproduction_rate = 0.1\n",
        "\n",
        "subsystems = Dict(\n",
        "    :crush => binary_predation_system(rock_reproduction_rate, crush_rate),\n",
        "    :cover => binary_predation_system(paper_reproduction_rate, cover_rate),\n",
        "    :cut => binary_predation_system(scissor_reproduction_rate, cut_rate)\n",
        ")\n",
        "\n",
        "rps_system = oapply(d, subsystems)"
      ],
      "id": "0165c918",
      "execution_count": null,
      "outputs": []
    },
    {
      "cell_type": "markdown",
      "metadata": {},
      "source": [
        "To see the results of our game, we can discretize the system using Euler's method and plot a trajectory.\n"
      ],
      "id": "d3b72380"
    },
    {
      "cell_type": "code",
      "metadata": {},
      "source": [
        "# Helper functions\n",
        "\n",
        "# Run a DDS s from initial state x0 for iters number of iterations.\n",
        "function simulate(s, x0, iters)\n",
        "    trajectory = [x0]\n",
        "    xk = x0\n",
        "    for i in 1:iters\n",
        "        xk = eval_dynamics(s, xk)\n",
        "        push!(trajectory, xk)\n",
        "    end\n",
        "    return trajectory\n",
        "end\n",
        "# Get the trajectory of a specific population.\n",
        "get_traj(trajs, i::Int) = [trajs[j][i] for j in 1:length(trajs)]\n",
        "\n",
        "rps_discrete_system = euler_approx(rps_system, 0.01)\n",
        "\n",
        "sol = simulate(rps_discrete_system, [100.0, 125.0, 90.0], 100)\n",
        "\n",
        "rock_traj = get_traj(sol, 1)\n",
        "paper_traj = get_traj(sol, 2)\n",
        "scissor_traj = get_traj(sol, 3)\n",
        "\n",
        "plt = plot(rock_traj, label=\"Rock\")\n",
        "plot!(paper_traj, label=\"Paper\")\n",
        "plot!(scissor_traj, label=\"Scissors\")\n",
        "\n",
        "display(plt)"
      ],
      "id": "d488cffa",
      "execution_count": null,
      "outputs": []
    },
    {
      "cell_type": "markdown",
      "metadata": {},
      "source": [
        "As we can see, this choice of parameters has led us to a steady state position where rock has won!\n",
        "\n",
        ":::"
      ],
      "id": "955283a2"
    }
  ],
  "metadata": {
    "kernelspec": {
      "name": "julia-1.9",
      "language": "julia",
      "display_name": "Julia 1.9.2"
    }
  },
  "nbformat": 4,
  "nbformat_minor": 5
}